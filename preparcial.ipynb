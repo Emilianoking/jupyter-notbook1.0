{
 "cells": [
  {
   "cell_type": "code",
   "execution_count": 28,
   "id": "6d8d7590-31b8-485c-8f11-18768ec4e0a3",
   "metadata": {},
   "outputs": [],
   "source": [
    "import pandas as pd\n",
    "import numpy as np\n",
    "import matplotlib.pyplot as plt\n"
   ]
  },
  {
   "cell_type": "code",
   "execution_count": 30,
   "id": "220d007f-c02d-4ddb-b7fa-a25e059035f9",
   "metadata": {},
   "outputs": [],
   "source": [
    "ciudades = ['Bogotá', 'Medellín', 'Cali', 'Barranquilla', 'Cartagena']\n",
    "meses = ['Enero', 'Febrero', 'Marzo', 'Abril', 'Mayo', 'Junio', 'Julio', 'Agosto', 'Septiembre', 'Octubre', 'Noviembre', 'Diciembre']\n"
   ]
  },
  {
   "cell_type": "code",
   "execution_count": 32,
   "id": "c646f036-6962-424c-8b1f-8d20d08d3bd5",
   "metadata": {},
   "outputs": [],
   "source": [
    "data = {\n",
    "    'Ciudad': np.repeat(ciudades, len(meses)),\n",
    "    'Mes': meses * len(ciudades),\n",
    "    'Ventas': np.random.randint(1000, 5000, len(ciudades) * len(meses))\n",
    "}\n",
    "df = pd.DataFrame(data)\n",
    "\n"
   ]
  },
  {
   "cell_type": "code",
   "execution_count": 34,
   "id": "f2261ebc-c4a9-4fd0-89b8-6243a7eb99a6",
   "metadata": {},
   "outputs": [
    {
     "data": {
      "text/html": [
       "<div>\n",
       "<style scoped>\n",
       "    .dataframe tbody tr th:only-of-type {\n",
       "        vertical-align: middle;\n",
       "    }\n",
       "\n",
       "    .dataframe tbody tr th {\n",
       "        vertical-align: top;\n",
       "    }\n",
       "\n",
       "    .dataframe thead th {\n",
       "        text-align: right;\n",
       "    }\n",
       "</style>\n",
       "<table border=\"1\" class=\"dataframe\">\n",
       "  <thead>\n",
       "    <tr style=\"text-align: right;\">\n",
       "      <th></th>\n",
       "      <th>Ciudad</th>\n",
       "      <th>Mes</th>\n",
       "      <th>Ventas</th>\n",
       "    </tr>\n",
       "  </thead>\n",
       "  <tbody>\n",
       "    <tr>\n",
       "      <th>0</th>\n",
       "      <td>Bogotá</td>\n",
       "      <td>Enero</td>\n",
       "      <td>4689</td>\n",
       "    </tr>\n",
       "    <tr>\n",
       "      <th>1</th>\n",
       "      <td>Bogotá</td>\n",
       "      <td>Febrero</td>\n",
       "      <td>4575</td>\n",
       "    </tr>\n",
       "    <tr>\n",
       "      <th>2</th>\n",
       "      <td>Bogotá</td>\n",
       "      <td>Marzo</td>\n",
       "      <td>2682</td>\n",
       "    </tr>\n",
       "    <tr>\n",
       "      <th>3</th>\n",
       "      <td>Bogotá</td>\n",
       "      <td>Abril</td>\n",
       "      <td>4481</td>\n",
       "    </tr>\n",
       "    <tr>\n",
       "      <th>4</th>\n",
       "      <td>Bogotá</td>\n",
       "      <td>Mayo</td>\n",
       "      <td>2764</td>\n",
       "    </tr>\n",
       "  </tbody>\n",
       "</table>\n",
       "</div>"
      ],
      "text/plain": [
       "   Ciudad      Mes  Ventas\n",
       "0  Bogotá    Enero    4689\n",
       "1  Bogotá  Febrero    4575\n",
       "2  Bogotá    Marzo    2682\n",
       "3  Bogotá    Abril    4481\n",
       "4  Bogotá     Mayo    2764"
      ]
     },
     "execution_count": 34,
     "metadata": {},
     "output_type": "execute_result"
    }
   ],
   "source": [
    "df.head()"
   ]
  },
  {
   "cell_type": "code",
   "execution_count": 36,
   "id": "d1c733c8-9b1f-41de-bf7b-40df6351324d",
   "metadata": {},
   "outputs": [
    {
     "name": "stdout",
     "output_type": "stream",
     "text": [
      "Suma total de ventas por ciudad:\n",
      " Ciudad\n",
      "Barranquilla    34674\n",
      "Bogotá          40765\n",
      "Cali            31625\n",
      "Cartagena       28883\n",
      "Medellín        33979\n",
      "Name: Ventas, dtype: int32\n"
     ]
    }
   ],
   "source": [
    "# Suma total de ventas por ciudad\n",
    "ventas_por_ciudad = df.groupby('Ciudad')['Ventas'].sum()\n",
    "print(\"Suma total de ventas por ciudad:\\n\", ventas_por_ciudad)\n"
   ]
  },
  {
   "cell_type": "code",
   "execution_count": 38,
   "id": "9e003f6a-c8bc-4e39-b770-c445516005a2",
   "metadata": {},
   "outputs": [
    {
     "name": "stdout",
     "output_type": "stream",
     "text": [
      "\n",
      "Media de ventas por ciudad:\n",
      " Ciudad\n",
      "Barranquilla    2889.500000\n",
      "Bogotá          3397.083333\n",
      "Cali            2635.416667\n",
      "Cartagena       2406.916667\n",
      "Medellín        2831.583333\n",
      "Name: Ventas, dtype: float64\n",
      "\n",
      "Desviación estándar de ventas por ciudad:\n",
      " Ciudad\n",
      "Barranquilla    1302.890039\n",
      "Bogotá          1255.023394\n",
      "Cali            1077.955764\n",
      "Cartagena        980.608944\n",
      "Medellín        1295.462112\n",
      "Name: Ventas, dtype: float64\n"
     ]
    }
   ],
   "source": [
    "media_ventas = df.groupby('Ciudad')['Ventas'].mean()\n",
    "desviacion_ventas = df.groupby('Ciudad')['Ventas'].std()\n",
    "print(\"\\nMedia de ventas por ciudad:\\n\", media_ventas)\n",
    "print(\"\\nDesviación estándar de ventas por ciudad:\\n\", desviacion_ventas)\n"
   ]
  },
  {
   "cell_type": "code",
   "execution_count": 40,
   "id": "ea238331-b7dd-4dea-8a65-41b71b1f1c69",
   "metadata": {},
   "outputs": [
    {
     "name": "stdout",
     "output_type": "stream",
     "text": [
      "\n",
      "Ciudades con alto desempeño (media de ventas > 3000):\n",
      " Ciudad\n",
      "Bogotá    3397.083333\n",
      "Name: Ventas, dtype: float64\n"
     ]
    }
   ],
   "source": [
    "ciudades_alto_desempeno = media_ventas[media_ventas > 3000]\n",
    "print(\"\\nCiudades con alto desempeño (media de ventas > 3000):\\n\", ciudades_alto_desempeno)\n"
   ]
  },
  {
   "cell_type": "code",
   "execution_count": 44,
   "id": "d113b2fc-f59e-4b47-bf8c-c1ad35d6656c",
   "metadata": {},
   "outputs": [
    {
     "data": {
      "text/html": [
       "<div>\n",
       "<style scoped>\n",
       "    .dataframe tbody tr th:only-of-type {\n",
       "        vertical-align: middle;\n",
       "    }\n",
       "\n",
       "    .dataframe tbody tr th {\n",
       "        vertical-align: top;\n",
       "    }\n",
       "\n",
       "    .dataframe thead th {\n",
       "        text-align: right;\n",
       "    }\n",
       "</style>\n",
       "<table border=\"1\" class=\"dataframe\">\n",
       "  <thead>\n",
       "    <tr style=\"text-align: right;\">\n",
       "      <th></th>\n",
       "      <th>Ciudad</th>\n",
       "      <th>Mes</th>\n",
       "      <th>Ventas</th>\n",
       "      <th>Ventas_Ajustadas</th>\n",
       "    </tr>\n",
       "  </thead>\n",
       "  <tbody>\n",
       "    <tr>\n",
       "      <th>0</th>\n",
       "      <td>Bogotá</td>\n",
       "      <td>Enero</td>\n",
       "      <td>4689</td>\n",
       "      <td>4795.662205</td>\n",
       "    </tr>\n",
       "    <tr>\n",
       "      <th>1</th>\n",
       "      <td>Bogotá</td>\n",
       "      <td>Febrero</td>\n",
       "      <td>4575</td>\n",
       "      <td>4477.181450</td>\n",
       "    </tr>\n",
       "    <tr>\n",
       "      <th>2</th>\n",
       "      <td>Bogotá</td>\n",
       "      <td>Marzo</td>\n",
       "      <td>2682</td>\n",
       "      <td>2617.977895</td>\n",
       "    </tr>\n",
       "    <tr>\n",
       "      <th>3</th>\n",
       "      <td>Bogotá</td>\n",
       "      <td>Abril</td>\n",
       "      <td>4481</td>\n",
       "      <td>4874.108334</td>\n",
       "    </tr>\n",
       "    <tr>\n",
       "      <th>4</th>\n",
       "      <td>Bogotá</td>\n",
       "      <td>Mayo</td>\n",
       "      <td>2764</td>\n",
       "      <td>3039.509398</td>\n",
       "    </tr>\n",
       "  </tbody>\n",
       "</table>\n",
       "</div>"
      ],
      "text/plain": [
       "   Ciudad      Mes  Ventas  Ventas_Ajustadas\n",
       "0  Bogotá    Enero    4689       4795.662205\n",
       "1  Bogotá  Febrero    4575       4477.181450\n",
       "2  Bogotá    Marzo    2682       2617.977895\n",
       "3  Bogotá    Abril    4481       4874.108334\n",
       "4  Bogotá     Mayo    2764       3039.509398"
      ]
     },
     "execution_count": 44,
     "metadata": {},
     "output_type": "execute_result"
    }
   ],
   "source": [
    "df['Ventas_Ajustadas'] = df['Ventas'] * np.random.uniform(0.9, 1.1, len(df))\n",
    "df.head()"
   ]
  },
  {
   "cell_type": "code",
   "execution_count": 46,
   "id": "2b204813-19ff-4f71-a63c-1a721a5531a3",
   "metadata": {},
   "outputs": [
    {
     "data": {
      "image/png": "[encoded data removed]",
      "text/plain": [
       "<Figure size 640x480 with 1 Axes>"
      ]
     },
     "metadata": {},
     "output_type": "display_data"
    }
   ],
   "source": [
    "ventas_ajustadas_por_ciudad = df.groupby('Ciudad')['Ventas_Ajustadas'].sum()\n",
    "ventas_ajustadas_por_ciudad.plot(kind='bar', color='skyblue')\n",
    "plt.title('Ventas Ajustadas por Ciudad')\n",
    "plt.xlabel('Ciudad')\n",
    "plt.ylabel('Ventas Ajustadas')\n",
    "plt.show()"
   ]
  },
  {
   "cell_type": "code",
   "execution_count": null,
   "id": "cc80c618-66c5-4fc3-adb4-c6b69d37ac89",
   "metadata": {},
   "outputs": [],
   "source": []
  }
 ],
 "metadata": {
  "kernelspec": {
   "display_name": "Python 3 (ipykernel)",
   "language": "python",
   "name": "python3"
  },
  "language_info": {
   "codemirror_mode": {
    "name": "ipython",
    "version": 3
   },
   "file_extension": ".py",
   "mimetype": "text/x-python",
   "name": "python",
   "nbconvert_exporter": "python",
   "pygments_lexer": "ipython3",
   "version": "3.12.4"
  }
 },
 "nbformat": 4,
 "nbformat_minor": 5
}
